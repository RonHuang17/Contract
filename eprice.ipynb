{
 "cells": [
  {
   "cell_type": "code",
   "execution_count": 1,
   "metadata": {},
   "outputs": [],
   "source": [
    "class Account:\n",
    "    month = [\"Jan\", \"Feb\", \"Mar\", \"Apr\", \"May\", \"Jun\", \"Jul\", \"Aug\", \"Sep\", \"Oct\", \"Nov\", \"Dec\"]\n",
    "    season = [\"ns\", \"ns\", \"ns\", \"ns\", \"s\", \"s\", \"s\", \"s\", \"s\", \"s\", \"ns\", \"ns\"]\n",
    "    user_type = {\n",
    "            \"la\" : \"la\",\n",
    "            \"lv\" : \"lv\",\n",
    "            \"hv\" : \"hv\"\n",
    "        }\n",
    "\n",
    "    def __init__(self, id, name):\n",
    "        self.id = id\n",
    "        self.name = name\n",
    "        self.contract = {\n",
    "            \"s\" : {\"r\" : 0, \"hp\" :0, \"ns\": 0, \"shp\" : 0,\"op\" : 0},\n",
    "            \"ns\" : {\"r\" : 0, \"hp\" : 0, \"ns\" : 0,\"shp\" : 0,\"op\" : 0}\n",
    "        }\n",
    "        \n",
    "        self.demand = {}\n",
    "\n",
    "        self.unitcprice = {\n",
    "            \"s\" : {\"r\" : 0, \"hp\" :0, \"ns\": 0, \"shp\" : 0,\"op\" : 0},\n",
    "            \"ns\" : {\"r\" : 0, \"hp\" : 0, \"ns\" : 0,\"shp\" : 0,\"op\" : 0}\n",
    "        }\n",
    "        \n",
    "        self.baseprice = {}\n",
    "\n",
    "    def setContract(self, season=\"s\", c_r=0, c_hp=0, c_ns = 0, c_shp = 0, c_op = 0): \n",
    "        if c_r <= 1:\n",
    "            print('must be larger than 1')\n",
    "        self.contract[season][\"r\"] = c_r\n",
    "        self.contract[season][\"hp\"] = c_hp\n",
    "        self.contract[season][\"ns\"] = c_ns\n",
    "        self.contract[season][\"shp\"] = c_shp\n",
    "        self.contract[season][\"op\"] = c_op\n",
    "\n",
    "        \n",
    "    #Method for input the demand\n",
    "    #demand_r: regular demand\n",
    "    #demand_ns = non-summer demand\n",
    "    #demand_sat = Saturday demand\n",
    "    #demant_op = off-peak demand\n",
    "    def setDemand(self, month_index=0, d_r=0, d_hp=0, d_ns = 0, d_shp = 0, d_op = 0): \n",
    "        if d_r <= 0:\n",
    "            print('must be positive')\n",
    "        self.demand[month_index] = {\n",
    "            \"month\" : self.month[month_index],\n",
    "            \"season\" : self.season[month_index],\n",
    "            \"r\" : d_r,\n",
    "            \"hp\" : d_hp,\n",
    "            \"ns\" : d_ns,\n",
    "            \"shp\" : d_shp,\n",
    "            \"op\" : d_op\n",
    "            }\n",
    "        \n",
    "    def setUnitcontractprice(self, season = \"s\", ucpr_r = 0, ucpr_hp = 0, ucpr_ns = 0, ucpr_sat = 0, ucpr_op = 0): \n",
    "        self.unitcprice[season][\"r\"] = ucpr_r\n",
    "        self.unitcprice[season][\"hp\"] = ucpr_hp\n",
    "        self.unitcprice[season][\"ns\"] = ucpr_ns\n",
    "        self.unitcprice[season][\"shp\"] = ucpr_sat\n",
    "        self.unitcprice[season][\"op\"] = ucpr_op\n",
    "\n",
    "    def getContract(self, month_index):\n",
    "        s = self.season[month_index]\n",
    "        contract_month = {\n",
    "            \"r\" : self.contract[s][\"r\"],\n",
    "            \"hp\" : self.contract[s][\"hp\"],\n",
    "            \"ns\" : self.contract[s][\"ns\"],\n",
    "            \"shp\" : self.contract[s][\"shp\"],\n",
    "            \"op\" : self.contract[s][\"op\"]\n",
    "        }\n",
    "        return contract_month\n",
    "\n",
    "    def getDemand(self, month_index):\n",
    "        demand_month = {\n",
    "            \"r\" : self.demand[month_index][\"r\"],\n",
    "            \"hp\" : self.demand[month_index][\"hp\"],\n",
    "            \"ns\" : self.demand[month_index][\"ns\"],\n",
    "            \"shp\" : self.demand[month_index][\"shp\"],\n",
    "            \"op\" : self.demand[month_index][\"op\"]\n",
    "        }\n",
    "        return demand_month\n",
    "    \n",
    "    def getUnitcontractprice(self, month_index):\n",
    "        s = self.season[month_index]\n",
    "        unitcprice_month = {\n",
    "            \"r\" : self.unitcprice[s][\"r\"],\n",
    "            \"hp\" : self.unitcprice[s][\"hp\"],\n",
    "            \"ns\" : self.unitcprice[s][\"ns\"],\n",
    "            \"shp\" : self.unitcprice[s][\"shp\"],\n",
    "            \"op\" : self.unitcprice[s][\"op\"]\n",
    "        }\n",
    "        return unitcprice_month\n",
    "        \n",
    "    def cacuExceedcontract(self, contract, demand):\n",
    "        cacuEx = lambda x, y : x-y if x-y > 0 else 0 \n",
    "        exceed = {\n",
    "            \"r\" : cacuEx(demand[\"r\"],contract[\"r\"]),\n",
    "            \"hp\" :cacuEx(demand[\"hp\"],contract[\"r\"]+contract[\"hp\"]),\n",
    "            \"ns\" : cacuEx(demand[\"ns\"],contract[\"r\"]+contract[\"ns\"]),\n",
    "            \"shp\" : cacuEx(demand[\"shp\"],contract[\"r\"]+contract[\"ns\"]+contract[\"hp\"]+contract[\"shp\"]),\n",
    "            \"op\" : cacuEx(demand[\"op\"],contract[\"r\"]+contract[\"ns\"]+contract[\"hp\"]+contract[\"shp\"]+contract[\"op\"])\n",
    "            }\n",
    "        return exceed\n",
    "    \n",
    "    \n",
    "    def getBaseprice(self, contract, unitcprice):\n",
    "        common = contract[\"shp\"]+contract[\"op\"]-(contract[\"r\"]+contract[\"ns\"])*0.5\n",
    "        return contract[\"r\"]*unitcprice[\"r\"]+contract[\"ns\"]*unitcprice[\"ns\"]+contract[\"hp\"]*unitcprice[\"hp\"]+contract[\"shp\"]*common\n",
    "    \n",
    "\n",
    "    def getPenaltyprice(self, contract, exceed, unitcprice):\n",
    "        cacuStage_1 = lambda x, y: x - y*0.1\n",
    "\n",
    "        hp = max(exceed[\"hp\"]-exceed[\"r\"], 0)\n",
    "        shp = max(exceed[\"shp\"]-max(exceed[\"r\"], exceed[\"hp\"]), 0)\n",
    "        op = max(exceed[\"op\"]-max(exceed[\"r\"],exceed[\"hp\"], exceed[\"shp\"]), 0)\n",
    "\n",
    "        penalty = {\n",
    "            \"r\" : {\n",
    "                \"stage_1\" : cacuStage_1(exceed[\"r\"], contract[\"r\"]),\n",
    "                \"stage _2\" : exceed[\"r\"] - penaltyprice[\"r\"][\"stage_1\"]\n",
    "            },\n",
    "            \"hp\" : {\n",
    "                \"stage_1\" : cacuStage_1(hp, contract[\"hp\"]),\n",
    "                \"stage _2\" : hp - penaltyprice[\"hp\"][\"stage_1\"]\n",
    "            },\n",
    "            \"ns\" : {\n",
    "                \"stage_1\" : cacuStage_1(exceed[\"ns\"], contract[\"ns\"]),\n",
    "                \"stage _2\" : exceed[\"ns\"] - penalty[\"ns\"][\"stage_1\"]\n",
    "            },\n",
    "            \"shp\" : {\n",
    "                \"stage_1\" : cacuStage_1(shp, contract[\"shp\"]),\n",
    "                \"stage _2\" : shp - penalty[\"shp\"][\"stage_1\"]\n",
    "            },\n",
    "            \"op\" : {\n",
    "                \"stage_1\" : cacuStage_1(op, contract[\"op\"]),\n",
    "                \"stage _2\" : op - penalty[\"op\"][\"stage_1\"]\n",
    "            }\n",
    "        }\n",
    "\n",
    "\n",
    "        \n",
    "        first = exceed - round(contract[\"r\"] * 0.1, 0)\n",
    "        second = exceed - first\n",
    "  \n",
    "        penaltyprice = {\n",
    "            \"first\" : first * unitcprice[\"r\"] * 2,\n",
    "            \"second\" : second * unitcprice * 3\n",
    "        } \n",
    "        return penaltyprice\n",
    "\n",
    "    \n",
    "    def cacuTotal(self):\n",
    "        for month_index in range(12):\n",
    "            contract = self.getContract(month_index)\n",
    "            demand = self.getDemand(month_index)\n",
    "            exceed = self.cacuExceedcontract(contract, demand)\n",
    "            unitcprice = self.getUnitcontractprice(month_index)\n",
    "\n",
    "            self.baseprice[month_index] = self.getBaseprice(contract,unitcprice) + self.getPenaltyprice(contract, exceed, unitcprice)"
   ]
  },
  {
   "cell_type": "code",
   "execution_count": 2,
   "metadata": {},
   "outputs": [],
   "source": [
    "user1 = Account(1000,'C1')\n"
   ]
  },
  {
   "cell_type": "code",
   "execution_count": 3,
   "metadata": {},
   "outputs": [
    {
     "data": {
      "text/plain": [
       "{'s': {'r': 223.6, 'hp': 0, 'ns': 166.9, 'shp': 44.7, 'op': 44.7},\n",
       " 'ns': {'r': 166.9, 'hp': 0, 'ns': 166.9, 'shp': 33.3, 'op': 33.3}}"
      ]
     },
     "execution_count": 3,
     "metadata": {},
     "output_type": "execute_result"
    }
   ],
   "source": [
    "user1.setUnitcontractprice(\"s\", 223.6,0,166.9,44.7,44.7)\n",
    "user1.setUnitcontractprice(\"ns\", 166.9,0,166.9,33.3,33.3)\n",
    "user1.unitcprice"
   ]
  },
  {
   "cell_type": "code",
   "execution_count": 4,
   "metadata": {},
   "outputs": [
    {
     "data": {
      "text/plain": [
       "{'s': {'r': 300, 'hp': 0, 'ns': 0, 'shp': 0, 'op': 0},\n",
       " 'ns': {'r': 300, 'hp': 0, 'ns': 0, 'shp': 0, 'op': 0}}"
      ]
     },
     "execution_count": 4,
     "metadata": {},
     "output_type": "execute_result"
    }
   ],
   "source": [
    "user1.setContract(\"s\", 300)\n",
    "user1.setContract(\"ns\", 300)\n",
    "user1.contract"
   ]
  },
  {
   "cell_type": "code",
   "execution_count": 5,
   "metadata": {},
   "outputs": [
    {
     "name": "stdout",
     "output_type": "stream",
     "text": [
      "{'month': 'Jan', 'season': 'ns', 'r': 68, 'hp': 0, 'ns': 0, 'shp': 62, 'op': 36}\n",
      "{'month': 'Feb', 'season': 'ns', 'r': 66, 'hp': 0, 'ns': 0, 'shp': 42, 'op': 37}\n",
      "{'month': 'Mar', 'season': 'ns', 'r': 177, 'hp': 0, 'ns': 0, 'shp': 154, 'op': 36}\n",
      "{'month': 'Apr', 'season': 'ns', 'r': 278, 'hp': 0, 'ns': 0, 'shp': 179, 'op': 150}\n",
      "{'month': 'May', 'season': 's', 'r': 276, 'hp': 0, 'ns': 0, 'shp': 164, 'op': 39}\n",
      "{'month': 'Jun', 'season': 's', 'r': 309, 'hp': 0, 'ns': 0, 'shp': 201, 'op': 40}\n",
      "{'month': 'Jul', 'season': 's', 'r': 357, 'hp': 0, 'ns': 0, 'shp': 215, 'op': 48}\n",
      "{'month': 'Aug', 'season': 's', 'r': 329, 'hp': 0, 'ns': 0, 'shp': 205, 'op': 174}\n",
      "{'month': 'Sep', 'season': 's', 'r': 342, 'hp': 0, 'ns': 0, 'shp': 312, 'op': 54}\n",
      "{'month': 'Oct', 'season': 's', 'r': 326, 'hp': 0, 'ns': 0, 'shp': 234, 'op': 47}\n",
      "{'month': 'Nov', 'season': 'ns', 'r': 240, 'hp': 0, 'ns': 0, 'shp': 173, 'op': 92}\n",
      "{'month': 'Dec', 'season': 'ns', 'r': 157, 'hp': 0, 'ns': 0, 'shp': 153, 'op': 36}\n"
     ]
    }
   ],
   "source": [
    "demand = [[68,0,0,62,36],\n",
    "          [66,0,0,42,37],\n",
    "          [177,0,0,154,36],\n",
    "          [278,0,0,179,150],\n",
    "          [276,0,0,164,39],\n",
    "          [309,0,0,201,40],\n",
    "          [357,0,0,215,48],\n",
    "          [329,0,0,205,174],\n",
    "          [342,0,0,312,54],\n",
    "          [326,0,0,234,47],\n",
    "          [240,0,0,173,92],\n",
    "          [157,0,0,153,36]]\n",
    "\n",
    "for month_index in range(12):\n",
    "   user1.setDemand(month_index, demand[month_index][0],demand[month_index][1], demand[month_index][2],demand[month_index][3],demand[month_index][4])\n",
    "   print(user1.demand[month_index])"
   ]
  },
  {
   "cell_type": "code",
   "execution_count": 6,
   "metadata": {},
   "outputs": [
    {
     "ename": "TypeError",
     "evalue": "'int' object is not iterable",
     "output_type": "error",
     "traceback": [
      "\u001b[1;31m---------------------------------------------------------------------------\u001b[0m",
      "\u001b[1;31mTypeError\u001b[0m                                 Traceback (most recent call last)",
      "\u001b[1;32md:\\Projects\\Contract\\eprice.ipynb Cell 6\u001b[0m line \u001b[0;36m1\n\u001b[1;32m----> <a href='vscode-notebook-cell:/d%3A/Projects/Contract/eprice.ipynb#W5sZmlsZQ%3D%3D?line=0'>1</a>\u001b[0m user1\u001b[39m.\u001b[39;49mcacuTotal()\n\u001b[0;32m      <a href='vscode-notebook-cell:/d%3A/Projects/Contract/eprice.ipynb#W5sZmlsZQ%3D%3D?line=1'>2</a>\u001b[0m user1\u001b[39m.\u001b[39mbaseprice\n",
      "\u001b[1;32md:\\Projects\\Contract\\eprice.ipynb Cell 6\u001b[0m line \u001b[0;36m1\n\u001b[0;32m    <a href='vscode-notebook-cell:/d%3A/Projects/Contract/eprice.ipynb#W5sZmlsZQ%3D%3D?line=156'>157</a>\u001b[0m exceed \u001b[39m=\u001b[39m \u001b[39mself\u001b[39m\u001b[39m.\u001b[39mcacuExceedcontract(contract, demand)\n\u001b[0;32m    <a href='vscode-notebook-cell:/d%3A/Projects/Contract/eprice.ipynb#W5sZmlsZQ%3D%3D?line=157'>158</a>\u001b[0m unitcprice \u001b[39m=\u001b[39m \u001b[39mself\u001b[39m\u001b[39m.\u001b[39mgetUnitcontractprice(month_index)\n\u001b[1;32m--> <a href='vscode-notebook-cell:/d%3A/Projects/Contract/eprice.ipynb#W5sZmlsZQ%3D%3D?line=159'>160</a>\u001b[0m \u001b[39mself\u001b[39m\u001b[39m.\u001b[39mbaseprice[month_index] \u001b[39m=\u001b[39m \u001b[39mself\u001b[39m\u001b[39m.\u001b[39mgetBaseprice(contract,unitcprice) \u001b[39m+\u001b[39m \u001b[39mself\u001b[39;49m\u001b[39m.\u001b[39;49mgetPenaltyprice(contract, exceed, unitcprice)\n",
      "\u001b[1;32md:\\Projects\\Contract\\eprice.ipynb Cell 6\u001b[0m line \u001b[0;36m1\n\u001b[0;32m    <a href='vscode-notebook-cell:/d%3A/Projects/Contract/eprice.ipynb#W5sZmlsZQ%3D%3D?line=110'>111</a>\u001b[0m \u001b[39mdef\u001b[39;00m \u001b[39mgetPenaltyprice\u001b[39m(\u001b[39mself\u001b[39m, contract, exceed, unitcprice):\n\u001b[0;32m    <a href='vscode-notebook-cell:/d%3A/Projects/Contract/eprice.ipynb#W5sZmlsZQ%3D%3D?line=111'>112</a>\u001b[0m     cacuStage_1 \u001b[39m=\u001b[39m \u001b[39mlambda\u001b[39;00m x, y: x \u001b[39m-\u001b[39m y\u001b[39m*\u001b[39m\u001b[39m0.1\u001b[39m\n\u001b[1;32m--> <a href='vscode-notebook-cell:/d%3A/Projects/Contract/eprice.ipynb#W5sZmlsZQ%3D%3D?line=113'>114</a>\u001b[0m     hp \u001b[39m=\u001b[39m \u001b[39mmax\u001b[39;49m(exceed[\u001b[39m\"\u001b[39;49m\u001b[39mhp\u001b[39;49m\u001b[39m\"\u001b[39;49m]\u001b[39m-\u001b[39;49mexceed[\u001b[39m\"\u001b[39;49m\u001b[39mr\u001b[39;49m\u001b[39m\"\u001b[39;49m])\n\u001b[0;32m    <a href='vscode-notebook-cell:/d%3A/Projects/Contract/eprice.ipynb#W5sZmlsZQ%3D%3D?line=114'>115</a>\u001b[0m     shp \u001b[39m=\u001b[39m \u001b[39mmax\u001b[39m(exceed[\u001b[39m\"\u001b[39m\u001b[39mshp\u001b[39m\u001b[39m\"\u001b[39m]\u001b[39m-\u001b[39mexceed[\u001b[39m\"\u001b[39m\u001b[39mr\u001b[39m\u001b[39m\"\u001b[39m],\u001b[39m0\u001b[39m)\n\u001b[0;32m    <a href='vscode-notebook-cell:/d%3A/Projects/Contract/eprice.ipynb#W5sZmlsZQ%3D%3D?line=115'>116</a>\u001b[0m     op \u001b[39m=\u001b[39m \u001b[39mmax\u001b[39m(exceed[\u001b[39m\"\u001b[39m\u001b[39mop\u001b[39m\u001b[39m\"\u001b[39m]\u001b[39m-\u001b[39m\u001b[39mmax\u001b[39m(exceed[\u001b[39m\"\u001b[39m\u001b[39mr\u001b[39m\u001b[39m\"\u001b[39m],exceed[\u001b[39m\"\u001b[39m\u001b[39mshp\u001b[39m\u001b[39m\"\u001b[39m]), \u001b[39m0\u001b[39m)\n",
      "\u001b[1;31mTypeError\u001b[0m: 'int' object is not iterable"
     ]
    }
   ],
   "source": [
    "user1.cacuTotal()\n",
    "user1.baseprice"
   ]
  },
  {
   "cell_type": "code",
   "execution_count": null,
   "metadata": {},
   "outputs": [],
   "source": []
  }
 ],
 "metadata": {
  "kernelspec": {
   "display_name": "Python 3",
   "language": "python",
   "name": "python3"
  },
  "language_info": {
   "codemirror_mode": {
    "name": "ipython",
    "version": 3
   },
   "file_extension": ".py",
   "mimetype": "text/x-python",
   "name": "python",
   "nbconvert_exporter": "python",
   "pygments_lexer": "ipython3",
   "version": "3.11.6"
  }
 },
 "nbformat": 4,
 "nbformat_minor": 2
}
