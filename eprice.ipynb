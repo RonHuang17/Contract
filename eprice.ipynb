{
 "cells": [
  {
   "cell_type": "code",
   "execution_count": 194,
   "metadata": {},
   "outputs": [],
   "source": [
    "class Account:\n",
    "    month = [\"Jan\", \"Feb\", \"Mar\", \"Apr\", \"May\", \"Jun\", \"Jul\", \"Aug\", \"Sep\", \"Oct\", \"Nov\", \"Dec\"]\n",
    "    season = [\"ns\", \"ns\", \"ns\", \"ns\", \"s\", \"s\", \"s\", \"s\", \"s\", \"s\", \"ns\", \"ns\"]\n",
    "    user_type = {\"la\" : \"la\",\"lv\" : \"lv\",\"hv\" : \"hv\"}\n",
    "\n",
    "    def __init__(self, id, name):\n",
    "        self.id = id\n",
    "        self.name = name\n",
    "        self.contract = {\"s\" : self.init_values(),\"ns\" : self.init_values()}\n",
    "        self.unitcprice = {\"s\" : self.init_values(),\"ns\" : self.init_values()}\n",
    "        self.demand = {}\n",
    "        self.baseprice = {}\n",
    "        self.penaltyprice = {}\n",
    "        self.penaltyprice_stage_1 = {}\n",
    "        self.penaltyprice_stage_2 = {}\n",
    "        self.totalprice = {}\n",
    "\n",
    "    \n",
    "        \n",
    "    #Method for input the demand\n",
    "    #demand_r: regular demand\n",
    "    #demand_ns = non-summer demand\n",
    "    #demand_sat = Saturday demand\n",
    "    #demant_op = off-peak demand\n",
    "\n",
    "\n",
    "    def init_values(self):\n",
    "        return {\"r\" : 0, \"hp\" :0, \"ns\": 0, \"shp\" : 0,\"op\" : 0}\n",
    "    \n",
    "    def set_values(self, dict, values):\n",
    "        dict = {\"r\" : values[0], \"hp\" :values[1], \"ns\": values[2], \"shp\" : values[3],\"op\" : values[4]}\n",
    "        return dict\n",
    "\n",
    "    def set_contract(self, season = \"s\", values = [0,0,0,0,0]): \n",
    "        self.contract[season] = self.set_values(self.contract[season], values)\n",
    "\n",
    "    def set_demand(self, month_index, values = [0,0,0,0,0]): \n",
    "        self.demand[month_index] = self.set_values(self.demand, values)\n",
    "        \n",
    "    def set_unitcontractprice(self, season = \"s\", values = [0,0,0,0,0]): \n",
    "        self.unitcprice[season] = self.set_values(self.unitcprice[season], values)\n",
    "\n",
    "    def get_contract(self, month_index):\n",
    "        s = self.season[month_index]\n",
    "        contract_month = self.contract[s]\n",
    "        return contract_month\n",
    "\n",
    "    def get_demand(self, month_index):\n",
    "        demand_month = self.demand[month_index]\n",
    "        return demand_month\n",
    "    \n",
    "    def get_unitcontractprice(self, month_index):\n",
    "        s = self.season[month_index]\n",
    "        unitcprice_month = self.unitcprice[s]\n",
    "        return unitcprice_month\n",
    "        \n",
    "    def caculate_exceed(self, contract, demand):\n",
    "        cacuEx = lambda x, y : x-y if x-y > 0 else 0 \n",
    "        exceed = {\n",
    "            \"r\" : cacuEx(demand[\"r\"],contract[\"r\"]),\n",
    "            \"hp\" :cacuEx(demand[\"hp\"],contract[\"r\"]+contract[\"hp\"]),\n",
    "            \"ns\" : cacuEx(demand[\"ns\"],contract[\"r\"]+contract[\"ns\"]),\n",
    "            \"shp\" : cacuEx(demand[\"shp\"],contract[\"r\"]+contract[\"ns\"]+contract[\"hp\"]+contract[\"shp\"]),\n",
    "            \"op\" : cacuEx(demand[\"op\"],contract[\"r\"]+contract[\"ns\"]+contract[\"hp\"]+contract[\"shp\"]+contract[\"op\"])\n",
    "            }\n",
    "        return exceed\n",
    "    \n",
    "    \n",
    "    def calculate_baseprice(self, contract, unitcprice):\n",
    "        common = contract[\"shp\"]+contract[\"op\"]-(contract[\"r\"]+contract[\"ns\"])*0.5\n",
    "        return contract[\"r\"]*unitcprice[\"r\"]+contract[\"ns\"]*unitcprice[\"ns\"]+contract[\"hp\"]*unitcprice[\"hp\"]+contract[\"shp\"]*common\n",
    "    \n",
    "\n",
    "    def caculate_penaltyprice(self, contract, exceed, unitcprice):\n",
    "        cacuStage_1 = lambda x, y: max(x - y*0.1, 0)\n",
    "\n",
    "        hp = max(exceed[\"hp\"]-exceed[\"r\"], 0)\n",
    "        shp = max(exceed[\"shp\"]-max(exceed[\"r\"], exceed[\"hp\"]), 0)\n",
    "        op = max(exceed[\"op\"]-max(exceed[\"r\"],exceed[\"hp\"], exceed[\"shp\"]), 0)\n",
    "\n",
    "        penalty = {\n",
    "            \"r\" : {\n",
    "                \"stage_1\" : cacuStage_1(exceed[\"r\"], contract[\"r\"]),\n",
    "                \"stage_2\" : exceed[\"r\"] - cacuStage_1(exceed[\"r\"], contract[\"r\"])\n",
    "                \n",
    "            },\n",
    "            \"hp\" : {\n",
    "                \"stage_1\" : cacuStage_1(hp, contract[\"hp\"]),\n",
    "                \"stage_2\" : hp - cacuStage_1(hp, contract[\"hp\"])\n",
    "            },\n",
    "            \"ns\" : {\n",
    "                \"stage_1\" : cacuStage_1(exceed[\"ns\"], contract[\"ns\"]),\n",
    "                \"stage_2\" : exceed[\"ns\"] - cacuStage_1(exceed[\"ns\"], contract[\"ns\"])\n",
    "            },\n",
    "            \"shp\" : {\n",
    "                \"stage_1\" : cacuStage_1(shp, contract[\"shp\"]),\n",
    "                \"stage_2\" : shp - cacuStage_1(shp, contract[\"shp\"])\n",
    "            },\n",
    "            \"op\" : {\n",
    "                \"stage_1\" : cacuStage_1(op, contract[\"op\"]),\n",
    "                \"stage_2\" : op - cacuStage_1(op, contract[\"op\"])\n",
    "            }\n",
    "        }\n",
    "  \n",
    "        penaltyprice = {\n",
    "             \"r\" : {\n",
    "                \"stage_1\" : penalty[\"r\"][\"stage_1\"] * unitcprice[\"r\"] * 2,\n",
    "                \"stage_2\" : penalty[\"r\"][\"stage_2\"] * unitcprice[\"r\"] * 3\n",
    "            },\n",
    "            \"hp\" : {\n",
    "                \"stage_1\" : penalty[\"hp\"][\"stage_1\"] * unitcprice[\"hp\"] * 2,\n",
    "                \"stage_2\" : penalty[\"hp\"][\"stage_2\"] * unitcprice[\"hp\"] * 3\n",
    "            },\n",
    "            \"ns\" : {\n",
    "                \"stage_1\" : penalty[\"ns\"][\"stage_1\"] * unitcprice[\"ns\"] * 2,\n",
    "                \"stage_2\" : penalty[\"ns\"][\"stage_2\"] * unitcprice[\"ns\"] * 3\n",
    "            },\n",
    "            \"shp\" : {\n",
    "                \"stage_1\" : penalty[\"shp\"][\"stage_1\"] * unitcprice[\"shp\"] * 2,\n",
    "                \"stage_2\" : penalty[\"shp\"][\"stage_2\"] * unitcprice[\"shp\"] * 3\n",
    "            },\n",
    "            \"op\" : {\n",
    "                \"stage_1\" : penalty[\"op\"][\"stage_1\"] * unitcprice[\"op\"] * 2,\n",
    "                \"stage_2\" : penalty[\"op\"][\"stage_2\"] * unitcprice[\"op\"] * 3\n",
    "            }\n",
    "\n",
    "        } \n",
    "        return penaltyprice\n",
    "\n",
    "    \n",
    "    def caculate_total(self):\n",
    "        for month_index in range(12):\n",
    "            contract = self.get_contract(month_index)\n",
    "            demand = self.get_demand(month_index)\n",
    "            exceed = self.caculate_exceed(contract, demand)\n",
    "            unitcprice = self.get_unitcontractprice(month_index)\n",
    "            self.baseprice[month_index] = self.calculate_baseprice(contract,unitcprice)\n",
    "            self.penaltyprice[month_index] = self.caculate_penaltyprice(contract, exceed, unitcprice)\n",
    "            self.penaltyprice_stage_1[month_index] = sum([self.penaltyprice[month_index][key][\"stage_1\"] for key in self.penaltyprice[month_index].keys()])\n",
    "            self.penaltyprice_stage_2[month_index] = sum([self.penaltyprice[month_index][key][\"stage_2\"] for key in self.penaltyprice[month_index].keys()])\n",
    "\n",
    "            self.totalprice[month_index] = self.calculate_baseprice(contract,unitcprice) + self.penaltyprice_stage_1[month_index] + self.penaltyprice_stage_2[month_index]"
   ]
  },
  {
   "cell_type": "code",
   "execution_count": 195,
   "metadata": {},
   "outputs": [],
   "source": [
    "user1 = Account(1000,'C1')"
   ]
  },
  {
   "cell_type": "code",
   "execution_count": 196,
   "metadata": {},
   "outputs": [
    {
     "data": {
      "text/plain": [
       "{'s': {'r': 223.6, 'hp': 0, 'ns': 166.9, 'shp': 44.7, 'op': 44.7},\n",
       " 'ns': {'r': 166.9, 'hp': 0, 'ns': 166.9, 'shp': 33.3, 'op': 33.3}}"
      ]
     },
     "execution_count": 196,
     "metadata": {},
     "output_type": "execute_result"
    }
   ],
   "source": [
    "user1.set_unitcontractprice(\"s\", [223.6,0,166.9,44.7,44.7])\n",
    "user1.set_unitcontractprice(\"ns\", [166.9,0,166.9,33.3,33.3])\n",
    "user1.unitcprice"
   ]
  },
  {
   "cell_type": "code",
   "execution_count": 197,
   "metadata": {},
   "outputs": [
    {
     "data": {
      "text/plain": [
       "{'s': {'r': 300, 'hp': 0, 'ns': 0, 'shp': 0, 'op': 0},\n",
       " 'ns': {'r': 300, 'hp': 0, 'ns': 0, 'shp': 0, 'op': 0}}"
      ]
     },
     "execution_count": 197,
     "metadata": {},
     "output_type": "execute_result"
    }
   ],
   "source": [
    "user1.set_contract(\"s\", [300,0,0,0,0])\n",
    "user1.set_contract(\"ns\", [300,0,0,0,0])\n",
    "user1.contract"
   ]
  },
  {
   "cell_type": "code",
   "execution_count": 198,
   "metadata": {},
   "outputs": [
    {
     "name": "stdout",
     "output_type": "stream",
     "text": [
      "Jan {'r': 68, 'hp': 0, 'ns': 0, 'shp': 62, 'op': 36}\n",
      "Feb {'r': 66, 'hp': 0, 'ns': 0, 'shp': 42, 'op': 37}\n",
      "Mar {'r': 177, 'hp': 0, 'ns': 0, 'shp': 154, 'op': 36}\n",
      "Apr {'r': 278, 'hp': 0, 'ns': 0, 'shp': 179, 'op': 150}\n",
      "May {'r': 276, 'hp': 0, 'ns': 0, 'shp': 164, 'op': 39}\n",
      "Jun {'r': 309, 'hp': 0, 'ns': 0, 'shp': 201, 'op': 40}\n",
      "Jul {'r': 357, 'hp': 0, 'ns': 0, 'shp': 215, 'op': 48}\n",
      "Aug {'r': 329, 'hp': 0, 'ns': 0, 'shp': 205, 'op': 174}\n",
      "Sep {'r': 342, 'hp': 0, 'ns': 0, 'shp': 312, 'op': 54}\n",
      "Oct {'r': 326, 'hp': 0, 'ns': 0, 'shp': 234, 'op': 47}\n",
      "Nov {'r': 240, 'hp': 0, 'ns': 0, 'shp': 173, 'op': 92}\n",
      "Dec {'r': 157, 'hp': 0, 'ns': 0, 'shp': 153, 'op': 36}\n"
     ]
    }
   ],
   "source": [
    "demand = [[68,0,0,62,36],\n",
    "          [66,0,0,42,37],\n",
    "          [177,0,0,154,36],\n",
    "          [278,0,0,179,150],\n",
    "          [276,0,0,164,39],\n",
    "          [309,0,0,201,40],\n",
    "          [357,0,0,215,48],\n",
    "          [329,0,0,205,174],\n",
    "          [342,0,0,312,54],\n",
    "          [326,0,0,234,47],\n",
    "          [240,0,0,173,92],\n",
    "          [157,0,0,153,36]]\n",
    "\n",
    "for month_index in range(12):\n",
    "   user1.set_demand(month_index, demand[month_index])\n",
    "   print(user1.month[month_index], user1.demand[month_index])"
   ]
  },
  {
   "cell_type": "code",
   "execution_count": 199,
   "metadata": {},
   "outputs": [
    {
     "name": "stdout",
     "output_type": "stream",
     "text": [
      "Jan 50070.0 0.0 0.0 50070.0\n",
      "Feb 50070.0 0.0 0.0 50070.0\n",
      "Mar 50070.0 0.0 0.0 50070.0\n",
      "Apr 50070.0 0.0 0.0 50070.0\n",
      "May 67080.0 0.0 0.0 67080.0\n",
      "Jun 67080.0 0.0 6037.2 73117.2\n",
      "Jul 67080.0 12074.4 20124.0 99278.4\n",
      "Aug 67080.0 0.0 19453.199999999997 86533.2\n",
      "Sep 67080.0 5366.4 20124.0 92570.4\n",
      "Oct 67080.0 0.0 17440.8 84520.8\n",
      "Nov 50070.0 0.0 0.0 50070.0\n",
      "Dec 50070.0 0.0 0.0 50070.0\n"
     ]
    }
   ],
   "source": [
    "#return the total price of each month\n",
    "user1.caculate_total()\n",
    "\n",
    "for month_index in range(12):\n",
    "    print(user1.month[month_index], user1.baseprice[month_index], user1.penaltyprice_stage_1[month_index], user1.penaltyprice_stage_2[month_index], user1.totalprice[month_index])"
   ]
  },
  {
   "cell_type": "code",
   "execution_count": 200,
   "metadata": {},
   "outputs": [],
   "source": [
    "# create a function to choose the best contract for each month\n",
    "def chooseBestContract(user, month_index):\n",
    "    #caculate the total price of each contract\n",
    "    totalprice = {}\n",
    "    for season in [\"s\", \"ns\"]:\n",
    "        contract = user.getContract(month_index)\n",
    "        demand = user.getDemand(month_index)\n",
    "        exceed = user.cacuExceedcontract(contract, demand)\n",
    "        unitcprice = user.getUnitcontractprice(month_index)\n",
    "        penaltyprice = user.getPenaltyprice(contract, exceed, unitcprice)\n",
    "        baseprice = user.getBaseprice(contract,unitcprice)\n",
    "        totalprice[season] = baseprice + penaltyprice[season][\"stage_1\"] + penaltyprice[season][\"stage_2\"]\n",
    "    #choose the best contract\n",
    "    if totalprice[\"s\"] < totalprice[\"ns\"]:\n",
    "        return \"s\"\n",
    "    else:\n",
    "        return \"ns\""
   ]
  }
 ],
 "metadata": {
  "kernelspec": {
   "display_name": "Python 3",
   "language": "python",
   "name": "python3"
  },
  "language_info": {
   "codemirror_mode": {
    "name": "ipython",
    "version": 3
   },
   "file_extension": ".py",
   "mimetype": "text/x-python",
   "name": "python",
   "nbconvert_exporter": "python",
   "pygments_lexer": "ipython3",
   "version": "3.11.6"
  }
 },
 "nbformat": 4,
 "nbformat_minor": 2
}
