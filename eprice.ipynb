{
 "cells": [
  {
   "cell_type": "code",
   "execution_count": 174,
   "metadata": {},
   "outputs": [],
   "source": [
    "class Account:\n",
    "    def __init__(self, number, name):\n",
    "        self.id = number\n",
    "        self.name = name\n",
    "        self.contract = [0, 0, 0, 0]\n",
    "        self.demand = [[0, 0, 0, 0]]*12\n",
    "        self.unitdemandprice = [0, 0, 0, 0]\n",
    "        self.baseprice = [0]*12\n",
    "\n",
    "    def setContract(self, demand_r=0, demand_ns = 0, demand_sat = 0, demand_op = 0): \n",
    "        if demand_r <= 1:\n",
    "            print('must be larger than 1')\n",
    "        self.contract[0] = demand_r\n",
    "        self.contract[1] = demand_ns\n",
    "        self.contract[2] = demand_sat\n",
    "        self.contract[3] = demand_op\n",
    "        \n",
    "    \n",
    "    #Method for input the demand\n",
    "    #demand_r: regular demand\n",
    "    #demand_ns = non-summer demand\n",
    "    #demand_sat = Saturday demand\n",
    "    #demant_op = off-peak demand\n",
    "    def setDemand(self, month_index=0, demand_r=0, demand_ns = 0, demand_sat = 0, demand_op = 0): \n",
    "        if demand_r <= 0:\n",
    "            print('must be positive')\n",
    "        self.demand[month_index][0] = demand_r\n",
    "        self.demand[month_index][1] = demand_ns\n",
    "        self.demand[month_index][2] = demand_sat\n",
    "        self.demand[month_index][3] = demand_op\n",
    "        \n",
    "    def setUnitdemandprice(self, unitdemandprice_demand_r = 0, unitdemandprice_demand_ns = 0, unitdemandprice_demand_sat = 0, unitdemandprice_demand_op = 0): \n",
    "        self.unitdemandprice[0] = unitdemandprice_demand_r\n",
    "        self.unitdemandprice[1] = unitdemandprice_demand_ns\n",
    "        self.unitdemandprice[2] = unitdemandprice_demand_sat\n",
    "        self.unitdemandprice[3] = unitdemandprice_demand_op\n",
    "\n",
    "    def cacuPrice(self):\n",
    "        check = self.contract[2]+self.contract[3]-(self.contract[0]+self.contract[1])*0.5\n",
    "            \n",
    "        #Summer\n",
    "        for month_index in [4, 5, 6, 7, 8, 9]:\n",
    "            self.baseprice[month_index] = self.unitdemandprice[0] * self.contract[0] + check\n",
    "\n",
    "        #Non-Summer\n",
    "        for month_index in [0, 1, 2, 3, 10, 11]:\n",
    "            self.baseprice[month_index] = self.unitdemandprice[0] * self.contract[0] + check"
   ]
  },
  {
   "cell_type": "code",
   "execution_count": 175,
   "metadata": {},
   "outputs": [],
   "source": [
    "user1 = Account(1000,'C1')"
   ]
  },
  {
   "cell_type": "code",
   "execution_count": 176,
   "metadata": {},
   "outputs": [
    {
     "data": {
      "text/plain": [
       "[223.6, 166.9, 44.7, 33.3]"
      ]
     },
     "execution_count": 176,
     "metadata": {},
     "output_type": "execute_result"
    }
   ],
   "source": [
    "user1.setUnitdemandprice(223.6,166.9,44.7,33.3)\n",
    "user1.unitdemandprice"
   ]
  },
  {
   "cell_type": "code",
   "execution_count": 177,
   "metadata": {},
   "outputs": [
    {
     "data": {
      "text/plain": [
       "[300, 0, 0, 0]"
      ]
     },
     "execution_count": 177,
     "metadata": {},
     "output_type": "execute_result"
    }
   ],
   "source": [
    "user1.setContract(300)\n",
    "user1.contract"
   ]
  },
  {
   "cell_type": "code",
   "execution_count": 179,
   "metadata": {},
   "outputs": [
    {
     "data": {
      "text/plain": [
       "[0, 0, 0, 0]"
      ]
     },
     "execution_count": 179,
     "metadata": {},
     "output_type": "execute_result"
    }
   ],
   "source": [
    "us"
   ]
  },
  {
   "cell_type": "code",
   "execution_count": 168,
   "metadata": {},
   "outputs": [
    {
     "name": "stdout",
     "output_type": "stream",
     "text": [
      "0\n",
      "1\n",
      "2\n",
      "3\n",
      "4\n",
      "5\n",
      "6\n",
      "7\n",
      "8\n",
      "9\n",
      "10\n",
      "11\n"
     ]
    },
    {
     "data": {
      "text/plain": [
       "[[157, 0, 153, 36],\n",
       " [157, 0, 153, 36],\n",
       " [157, 0, 153, 36],\n",
       " [157, 0, 153, 36],\n",
       " [157, 0, 153, 36],\n",
       " [157, 0, 153, 36],\n",
       " [157, 0, 153, 36],\n",
       " [157, 0, 153, 36],\n",
       " [157, 0, 153, 36],\n",
       " [157, 0, 153, 36],\n",
       " [157, 0, 153, 36],\n",
       " [157, 0, 153, 36]]"
      ]
     },
     "execution_count": 168,
     "metadata": {},
     "output_type": "execute_result"
    }
   ],
   "source": [
    "demand = [[68,0,62,36],\n",
    "          [66,0,42,37],\n",
    "          [177,0,154,36],\n",
    "          [278,0,179,150],\n",
    "          [276,0,164,39],\n",
    "          [309,0,201,40],\n",
    "          [357,0,215,48],\n",
    "          [329,0,205,174],\n",
    "          [342,0,312,54],\n",
    "          [326,0,234,47],\n",
    "          [240,0,173,92],\n",
    "          [157,0,153,36]]\n",
    "\n",
    "for month_index in range(12):\n",
    "   print(month_index)\n",
    "   user1.setDemand(month_index, demand[month_index][0],demand[month_index][1],demand[month_index][2], demand[month_index][3])\n",
    "   \n",
    "\n",
    "user1.demand\n",
    "  "
   ]
  },
  {
   "cell_type": "code",
   "execution_count": 73,
   "metadata": {},
   "outputs": [
    {
     "data": {
      "text/plain": [
       "[66930.0,\n",
       " 66930.0,\n",
       " 66930.0,\n",
       " 66930.0,\n",
       " 66930.0,\n",
       " 66930.0,\n",
       " 66930.0,\n",
       " 66930.0,\n",
       " 66930.0,\n",
       " 66930.0,\n",
       " 66930.0,\n",
       " 66930.0]"
      ]
     },
     "execution_count": 73,
     "metadata": {},
     "output_type": "execute_result"
    }
   ],
   "source": [
    "user1.cacuPrice()\n",
    "user1.baseprice"
   ]
  }
 ],
 "metadata": {
  "kernelspec": {
   "display_name": "Python 3",
   "language": "python",
   "name": "python3"
  },
  "language_info": {
   "codemirror_mode": {
    "name": "ipython",
    "version": 3
   },
   "file_extension": ".py",
   "mimetype": "text/x-python",
   "name": "python",
   "nbconvert_exporter": "python",
   "pygments_lexer": "ipython3",
   "version": "3.11.6"
  }
 },
 "nbformat": 4,
 "nbformat_minor": 2
}
